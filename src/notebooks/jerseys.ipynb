{
 "cells": [
  {
   "cell_type": "code",
   "execution_count": 816,
   "metadata": {},
   "outputs": [],
   "source": [
    "from pathlib import Path\n",
    "from random import choice, randint\n",
    "from textwrap import wrap\n",
    "from io import BytesIO\n",
    "from PIL import Image, ImageChops, ImageDraw, ImageFont, ImageOps\n",
    "from IPython.display import display\n"
   ]
  },
  {
   "cell_type": "code",
   "execution_count": 817,
   "metadata": {},
   "outputs": [
    {
     "name": "stdout",
     "output_type": "stream",
     "text": [
      "Found 4 local fonts: [WindowsPath('../fonts/BlackOpsOne-Regular.ttf'), WindowsPath('../fonts/Blackout-Midnight.ttf'), WindowsPath('../fonts/BowlbyOneSC-Regular.ttf'), WindowsPath('../fonts/TitanOne-Regular.ttf')]\n"
     ]
    }
   ],
   "source": [
    "FONTS = list(Path(\"../fonts\").glob(\"*.ttf\"))\n",
    "print(f\"Found {len(FONTS)} local fonts: {FONTS}\")\n"
   ]
  },
  {
   "cell_type": "code",
   "execution_count": 818,
   "metadata": {},
   "outputs": [
    {
     "name": "stdout",
     "output_type": "stream",
     "text": [
      "Found 1 local image subdirectories: [WindowsPath('../images/tank1')]\n"
     ]
    }
   ],
   "source": [
    "IMAGE_DIR = Path(\"../images\")\n",
    "IMAGE_SUBDIRS = [d for d in IMAGE_DIR.iterdir() if d.is_dir()]\n",
    "print(f\"Found {len(IMAGE_SUBDIRS)} local image subdirectories: {IMAGE_SUBDIRS}\")\n"
   ]
  },
  {
   "cell_type": "code",
   "execution_count": 819,
   "metadata": {},
   "outputs": [],
   "source": [
    "NAMES = [\n",
    "    \"Bridget Von Hammeries\",\n",
    "    \"Vikita Van Go-Go\",\n",
    "    \"Pixie Plunder Girl\",\n",
    "    \"Candy B. Ambush\",\n",
    "    \"Hurtz Jenasaurus\",\n",
    "    \"Bleed Only Discomfort\",\n",
    "    \"Salty Skoolyard\",\n",
    "    \"Brute-E-Licious\",\n",
    "    \"Agri-Mightya\",\n",
    "    \"Polly Pack-a-Patty\",\n",
    "    \"Debby Does Derbyfall\",\n",
    "    \"Buster St.umblebear\",\n",
    "    \"Stumblegum\",\n",
    "    \"Loch Jess Monster\",\n",
    "    \"FonSquishfee Gripper\",\n",
    "    \"Slam Chowdemeannie\",\n",
    "    \"Automaton Thunder\",\n",
    "]\n",
    "\n"
   ]
  },
  {
   "cell_type": "code",
   "execution_count": 820,
   "metadata": {},
   "outputs": [],
   "source": [
    "COLOR_PAIRS = [\n",
    "    (\"#9B80B6\", \"#120920\"),\n",
    "    (\"#763C04\", \"#92C9F6\"),\n",
    "    (\"#F7E533\", \"#8415EA\"),\n",
    "    (\"#6D2581\", \"#51FA8C\"),\n",
    "    (\"#2F6269\", \"#A8E518\"),\n",
    "    (\"#AA23A3\", \"#14FCBC\"),\n",
    "]\n"
   ]
  },
  {
   "cell_type": "code",
   "execution_count": 821,
   "metadata": {},
   "outputs": [
    {
     "name": "stdout",
     "output_type": "stream",
     "text": [
      "Name: Slam Chowdemeannie\n"
     ]
    }
   ],
   "source": [
    "name = choice(NAMES)\n",
    "print(f\"Name: {name}\")\n"
   ]
  },
  {
   "cell_type": "code",
   "execution_count": 822,
   "metadata": {},
   "outputs": [
    {
     "name": "stdout",
     "output_type": "stream",
     "text": [
      "Number: 5958\n"
     ]
    }
   ],
   "source": [
    "number = str(randint(1, 9999))\n",
    "print(f\"Number: {number}\")\n"
   ]
  },
  {
   "cell_type": "code",
   "execution_count": 823,
   "metadata": {},
   "outputs": [
    {
     "name": "stdout",
     "output_type": "stream",
     "text": [
      "Color pair: ('#9B80B6', '#120920')\n"
     ]
    }
   ],
   "source": [
    "color_pair = choice(COLOR_PAIRS)\n",
    "bg_color, fg_color = color_pair\n",
    "print(f\"Color pair: {color_pair}\")\n"
   ]
  },
  {
   "cell_type": "code",
   "execution_count": 824,
   "metadata": {},
   "outputs": [
    {
     "name": "stdout",
     "output_type": "stream",
     "text": [
      "Font: ..\\fonts\\BowlbyOneSC-Regular.ttf\n"
     ]
    }
   ],
   "source": [
    "font = choice(FONTS)\n",
    "font_data = font.read_bytes()\n",
    "print(f\"Font: {font}\")\n"
   ]
  },
  {
   "cell_type": "code",
   "execution_count": 825,
   "metadata": {},
   "outputs": [],
   "source": [
    "im_scale = 0.3\n"
   ]
  },
  {
   "cell_type": "code",
   "execution_count": 826,
   "metadata": {},
   "outputs": [],
   "source": [
    "def display_scaled(im, im_scale=im_scale):\n",
    "    scaled = im.resize((int(im.width * im_scale), int(im.height * im_scale)))\n",
    "    display(scaled)"
   ]
  },
  {
   "cell_type": "code",
   "execution_count": 827,
   "metadata": {},
   "outputs": [
    {
     "data": {
      "image/png": "[encoded data removed]",
      "text/plain": [
       "<PIL.Image.Image image mode=L size=160x268>"
      ]
     },
     "metadata": {},
     "output_type": "display_data"
    }
   ],
   "source": [
    "image_path = choice(list(IMAGE_SUBDIRS))\n",
    "mask = Image.open(image_path / \"mask.png\")\n",
    "im_gray = ImageOps.grayscale(mask)\n",
    "display_scaled(im_gray)\n"
   ]
  },
  {
   "cell_type": "code",
   "execution_count": 828,
   "metadata": {},
   "outputs": [
    {
     "data": {
      "image/png": "[encoded data removed]",
      "text/plain": [
       "<PIL.Image.Image image mode=RGB size=160x268>"
      ]
     },
     "metadata": {},
     "output_type": "display_data"
    }
   ],
   "source": [
    "# colorize the jersey with our chosen name's \"background\" color\n",
    "im_color = ImageOps.colorize(im_gray, bg_color, \"white\")\n",
    "display_scaled(im_color)\n"
   ]
  },
  {
   "cell_type": "code",
   "execution_count": 829,
   "metadata": {},
   "outputs": [],
   "source": [
    "max_width = im_color.width * 0.65\n",
    "draw = ImageDraw.Draw(im_color)\n"
   ]
  },
  {
   "cell_type": "code",
   "execution_count": 830,
   "metadata": {},
   "outputs": [],
   "source": [
    "def text_wrap(text, font, max_width):\n",
    "    # From https://fiveminutes.today/articles/putting-text-on-images-with-python-pil/\n",
    "    lines = []\n",
    "    # If the width of the text is smaller than image width\n",
    "    # we don't need to split it, just add it to the lines array\n",
    "    # and return\n",
    "    if font.getlength(text) <= max_width:\n",
    "        lines.append(text)\n",
    "    else:\n",
    "        # split the line by spaces to get words\n",
    "        words = text.split(\" \")\n",
    "        i = 0\n",
    "        # append every word to a line while its width is shorter than image width\n",
    "        while i < len(words):\n",
    "            line = \"\"\n",
    "            while i < len(words) and font.getlength(line + words[i]) <= max_width:\n",
    "                line = line + words[i] + \" \"\n",
    "                i += 1\n",
    "            if not line:\n",
    "                line = words[i]\n",
    "                i += 1\n",
    "            # when the line gets longer than the max width do not append the word,\n",
    "            # add the line to the lines array\n",
    "            lines.append(line.strip())\n",
    "    return lines\n"
   ]
  },
  {
   "cell_type": "code",
   "execution_count": 831,
   "metadata": {},
   "outputs": [],
   "source": [
    "name_font = ImageFont.truetype(BytesIO(font_data), 200)\n"
   ]
  },
  {
   "cell_type": "code",
   "execution_count": 832,
   "metadata": {},
   "outputs": [],
   "source": [
    "# get size of name in our chosen font\n",
    "name_width = draw.textlength(name, font=name_font)\n"
   ]
  },
  {
   "cell_type": "code",
   "execution_count": 833,
   "metadata": {},
   "outputs": [
    {
     "data": {
      "text/plain": [
       "'Slam\\nChowdemeannie'"
      ]
     },
     "execution_count": 833,
     "metadata": {},
     "output_type": "execute_result"
    }
   ],
   "source": [
    "# break up name into multiple lines if necessary to fit on shirt\n",
    "lines = \"\\n\".join(text_wrap(name, name_font, max_width))\n",
    "lines\n"
   ]
  },
  {
   "cell_type": "code",
   "execution_count": 834,
   "metadata": {},
   "outputs": [
    {
     "name": "stdout",
     "output_type": "stream",
     "text": [
      "Name width: 1821.9999999999998\n",
      "Name height: 386.0\n"
     ]
    }
   ],
   "source": [
    "name_left, name_top, name_right, name_bottom  = draw.multiline_textbbox((im_color.height * .3, im_color.width/2), lines, font=name_font, align=\"center\")\n",
    "name_width = name_right - name_left\n",
    "name_height = name_bottom - name_top\n",
    "print(f\"Name width: {name_width}\")\n",
    "print(f\"Name height: {name_height}\")"
   ]
  },
  {
   "cell_type": "code",
   "execution_count": 835,
   "metadata": {},
   "outputs": [
    {
     "name": "stdout",
     "output_type": "stream",
     "text": [
      "Name width: 1808.9999999999998\n",
      "Name height: 384.0\n",
      "Name width: 1803.9999999999998\n",
      "Name height: 382.0\n",
      "Name width: 1794.9999999999998\n",
      "Name height: 380.0\n",
      "Name width: 1784.9999999999998\n",
      "Name height: 378.0\n",
      "Name width: 1774.0\n",
      "Name height: 376.0\n",
      "Name width: 1766.0\n",
      "Name height: 373.0\n",
      "Name width: 1759.0\n",
      "Name height: 371.0\n",
      "Name width: 1748.0\n",
      "Name height: 370.0\n",
      "Name width: 1739.0\n",
      "Name height: 368.0\n",
      "Name width: 1730.0\n",
      "Name height: 366.0\n",
      "Name width: 1723.0\n",
      "Name height: 365.0\n",
      "Name width: 1711.0\n",
      "Name height: 362.0\n",
      "Name width: 1701.0\n",
      "Name height: 361.0\n",
      "Name width: 1695.0\n",
      "Name height: 359.0\n",
      "Name width: 1684.0\n",
      "Name height: 357.0\n",
      "Name width: 1676.0\n",
      "Name height: 355.0\n",
      "Name width: 1664.0\n",
      "Name height: 353.0\n",
      "Name width: 1658.0\n",
      "Name height: 351.0\n",
      "Name width: 1649.0\n",
      "Name height: 349.0\n",
      "Name width: 1637.0\n",
      "Name height: 348.0\n",
      "Name width: 1630.0\n",
      "Name height: 345.0\n",
      "Name width: 1621.0\n",
      "Name height: 343.0\n",
      "Name width: 1612.0\n",
      "Name height: 342.0\n",
      "Name width: 1602.0\n",
      "Name height: 341.0\n",
      "Name width: 1595.0\n",
      "Name height: 339.0\n",
      "Name width: 1586.0\n",
      "Name height: 335.0\n",
      "Name width: 1577.0\n",
      "Name height: 334.0\n",
      "Name width: 1566.0\n",
      "Name height: 331.0\n",
      "Name width: 1556.0\n",
      "Name height: 330.0\n",
      "Name width: 1550.0\n",
      "Name height: 329.0\n",
      "Name width: 1537.0\n",
      "Name height: 326.0\n",
      "Name width: 1531.0\n",
      "Name height: 325.0\n",
      "Name width: 1521.0\n",
      "Name height: 323.0\n",
      "Name width: 1511.0\n",
      "Name height: 321.0\n",
      "Name width: 1503.0\n",
      "Name height: 319.0\n",
      "Name width: 1494.0\n",
      "Name height: 318.0\n",
      "Name width: 1485.0\n",
      "Name height: 315.0\n",
      "Name width: 1473.0\n",
      "Name height: 313.0\n",
      "Name width: 1467.0\n",
      "Name height: 311.0\n",
      "Name width: 1458.0\n",
      "Name height: 309.0\n",
      "Name width: 1449.0\n",
      "Name height: 308.0\n",
      "Name width: 1436.0\n",
      "Name height: 306.0\n",
      "Name width: 1429.0\n",
      "Name height: 304.0\n",
      "Name width: 1422.0\n",
      "Name height: 302.0\n",
      "Name width: 1409.0\n",
      "Name height: 301.0\n",
      "Name width: 1401.0\n",
      "Name height: 299.0\n",
      "Name width: 1394.0\n",
      "Name height: 296.0\n",
      "Name width: 1384.0\n",
      "Name height: 294.0\n",
      "Name width: 1374.0\n",
      "Name height: 292.0\n",
      "Name width: 1366.0\n",
      "Name height: 291.0\n",
      "Name width: 1358.0\n",
      "Name height: 289.0\n",
      "Name width: 1347.0\n",
      "Name height: 288.0\n",
      "Name width: 1340.0\n",
      "Name height: 285.0\n",
      "Name width: 1330.0\n",
      "Name height: 283.0\n",
      "Name width: 1323.0\n",
      "Name height: 281.0\n",
      "Name width: 1310.0\n",
      "Name height: 280.0\n",
      "Name width: 1302.0\n",
      "Name height: 278.0\n",
      "Name width: 1294.0\n",
      "Name height: 276.0\n",
      "Name width: 1283.0\n",
      "Name height: 273.0\n",
      "Name width: 1275.0\n",
      "Name height: 271.0\n",
      "Name width: 1267.0\n",
      "Name height: 270.0\n",
      "Name width: 1257.0\n",
      "Name height: 268.0\n",
      "Name width: 1248.0\n",
      "Name height: 266.0\n",
      "Name width: 1238.0\n",
      "Name height: 264.0\n",
      "Name width: 1231.0\n",
      "Name height: 262.0\n",
      "Name width: 1219.0\n",
      "Name height: 261.0\n",
      "Name width: 1212.0\n",
      "Name height: 258.0\n",
      "Name width: 1203.0\n",
      "Name height: 256.0\n",
      "Name width: 1195.0\n",
      "Name height: 254.0\n",
      "Name width: 1182.0\n",
      "Name height: 253.0\n",
      "Name width: 1174.0\n",
      "Name height: 251.0\n",
      "Name width: 1167.0\n",
      "Name height: 249.0\n",
      "Name width: 1154.0\n",
      "Name height: 248.0\n",
      "Name width: 1147.0\n",
      "Name height: 245.0\n",
      "Name width: 1136.0\n",
      "Name height: 244.0\n",
      "Name width: 1130.0\n",
      "Name height: 242.0\n",
      "Name width: 1118.0\n",
      "Name height: 240.0\n",
      "Name width: 1109.0\n",
      "Name height: 238.0\n",
      "Name width: 1103.0\n",
      "Name height: 236.0\n",
      "Name width: 1093.0\n",
      "Name height: 234.0\n",
      "Name width: 1084.0\n",
      "Name height: 232.0\n",
      "Name width: 1075.0\n",
      "Name height: 231.0\n",
      "Name width: 1067.0\n",
      "Name height: 228.0\n",
      "Name width: 1056.0\n",
      "Name height: 226.0\n",
      "Name width: 1046.0\n",
      "Name height: 224.0\n",
      "Name width: 1039.0\n",
      "Name height: 222.0\n",
      "Name width: 1027.0\n",
      "Name height: 220.0\n",
      "Name width: 1022.0\n",
      "Name height: 217.0\n",
      "Name width: 1009.0\n",
      "Name height: 216.0\n",
      "Name width: 1003.0\n",
      "Name height: 214.0\n",
      "Name width: 992.0\n",
      "Name height: 212.0\n",
      "Name width: 983.0\n",
      "Name height: 210.0\n",
      "Name width: 975.0\n",
      "Name height: 208.0\n",
      "Name width: 965.0\n",
      "Name height: 206.0\n",
      "Name width: 957.0\n",
      "Name height: 205.0\n",
      "Name width: 947.0\n",
      "Name height: 203.0\n",
      "Name width: 939.0\n",
      "Name height: 201.0\n",
      "Name width: 929.0\n",
      "Name height: 199.0\n",
      "Name width: 921.0\n",
      "Name height: 196.0\n",
      "Name width: 910.0\n",
      "Name height: 195.0\n",
      "Name width: 900.0\n",
      "Name height: 193.0\n",
      "Name width: 893.0\n",
      "Name height: 191.0\n",
      "Name width: 881.0\n",
      "Name height: 190.0\n",
      "Name width: 875.0\n",
      "Name height: 188.0\n",
      "Name width: 865.0\n",
      "Name height: 186.0\n",
      "Name width: 857.0\n",
      "Name height: 184.0\n",
      "Name width: 847.0\n",
      "Name height: 183.0\n",
      "Name width: 838.0\n",
      "Name height: 180.0\n",
      "Name width: 831.0\n",
      "Name height: 178.0\n",
      "Name width: 819.0\n",
      "Name height: 176.0\n",
      "Name width: 810.0\n",
      "Name height: 174.0\n",
      "Name width: 803.0\n",
      "Name height: 173.0\n",
      "Name width: 795.0\n",
      "Name height: 171.0\n",
      "Name width: 782.0\n",
      "Name height: 168.0\n",
      "Name width: 773.0\n",
      "Name height: 167.0\n",
      "Name width: 768.0\n",
      "Name height: 166.0\n",
      "Name width: 755.0\n",
      "Name height: 164.0\n",
      "Name width: 746.0\n",
      "Name height: 162.0\n",
      "Name width: 738.0\n",
      "Name height: 159.0\n",
      "Name width: 729.0\n",
      "Name height: 156.0\n",
      "Name width: 720.0\n",
      "Name height: 155.0\n",
      "Name width: 708.0\n",
      "Name height: 154.0\n",
      "Name width: 703.0\n",
      "Name height: 152.0\n",
      "Name width: 691.0\n",
      "Name height: 150.0\n",
      "Name width: 683.0\n",
      "Name height: 148.0\n",
      "Name width: 675.0\n",
      "Name height: 146.0\n",
      "Name width: 666.0\n",
      "Name height: 144.0\n",
      "Name width: 654.0\n",
      "Name height: 143.0\n",
      "Name width: 644.0\n",
      "Name height: 140.0\n",
      "Name width: 638.0\n",
      "Name height: 138.0\n",
      "Name width: 626.0\n",
      "Name height: 136.0\n",
      "Name width: 618.0\n",
      "Name height: 135.0\n",
      "Name width: 611.0\n",
      "Name height: 133.0\n",
      "Name width: 603.0\n",
      "Name height: 131.0\n",
      "Name width: 592.0\n",
      "Name height: 130.0\n",
      "Name width: 581.0\n",
      "Name height: 127.0\n",
      "Name width: 577.0\n",
      "Name height: 126.0\n",
      "Name width: 565.0\n",
      "Name height: 124.0\n",
      "Name width: 555.0\n",
      "Name height: 121.0\n",
      "Name width: 546.0\n",
      "Name height: 120.0\n",
      "Name width: 540.0\n",
      "Name height: 118.0\n",
      "Name width: 528.0\n",
      "Name height: 116.0\n",
      "Name width: 517.0\n",
      "Name height: 114.0\n",
      "Name width: 511.00000000000006\n",
      "Name height: 113.0\n",
      "Name width: 501.00000000000006\n",
      "Name height: 111.0\n",
      "Name width: 492.00000000000006\n",
      "Name height: 109.0\n",
      "Name width: 481.00000000000006\n",
      "Name height: 106.0\n",
      "Name width: 475.00000000000006\n",
      "Name height: 105.0\n",
      "Name width: 465.00000000000006\n",
      "Name height: 103.0\n",
      "Name width: 455.00000000000006\n",
      "Name height: 100.0\n",
      "Name width: 447.00000000000006\n",
      "Name height: 99.0\n",
      "Name width: 435.00000000000006\n",
      "Name height: 95.0\n",
      "Name width: 429.00000000000006\n",
      "Name height: 94.0\n",
      "Name width: 419.00000000000006\n",
      "Name height: 92.0\n",
      "Name width: 411.00000000000006\n",
      "Name height: 90.0\n",
      "Name width: 399.00000000000006\n",
      "Name height: 88.0\n",
      "Name width: 392.00000000000006\n",
      "Name height: 86.0\n",
      "Name width: 382.00000000000006\n",
      "Name height: 85.0\n",
      "Name width: 372.00000000000006\n",
      "Name height: 82.0\n",
      "Name width: 364.00000000000006\n",
      "Name height: 80.0\n",
      "Name width: 354.00000000000006\n",
      "Name height: 79.0\n",
      "Name width: 349.00000000000006\n",
      "Name height: 77.0\n",
      "Name width: 336.00000000000006\n",
      "Name height: 75.0\n"
     ]
    }
   ],
   "source": [
    "while name_width > max_width:\n",
    "    name_font = ImageFont.truetype(BytesIO(font_data), name_font.size - 1)\n",
    "    name_left, name_top, name_right, name_bottom  = draw.multiline_textbbox((im_color.height * .3, im_color.width/2), lines, font=name_font, align=\"center\")\n",
    "    name_width = name_right - name_left\n",
    "    name_height = name_bottom - name_top\n",
    "    print(f\"Name width: {name_width}\")\n",
    "    print(f\"Name height: {name_height}\")"
   ]
  },
  {
   "cell_type": "code",
   "execution_count": 836,
   "metadata": {},
   "outputs": [],
   "source": [
    "draw.multiline_text(((im_color.width-name_width)/2,im_color.height * .3 ), lines, font=name_font, fill=fg_color, align=\"center\")"
   ]
  },
  {
   "cell_type": "code",
   "execution_count": 837,
   "metadata": {},
   "outputs": [
    {
     "data": {
      "image/png": "[encoded data removed]",
      "text/plain": [
       "<PIL.Image.Image image mode=RGB size=160x268>"
      ]
     },
     "metadata": {},
     "output_type": "display_data"
    }
   ],
   "source": [
    "display_scaled(im_color)"
   ]
  },
  {
   "cell_type": "code",
   "execution_count": 838,
   "metadata": {},
   "outputs": [],
   "source": [
    "NUMBER_FONT_SIZE = 200\n"
   ]
  },
  {
   "cell_type": "code",
   "execution_count": 839,
   "metadata": {},
   "outputs": [],
   "source": [
    "number_font = ImageFont.truetype(BytesIO(font_data), NUMBER_FONT_SIZE)\n"
   ]
  },
  {
   "cell_type": "code",
   "execution_count": 840,
   "metadata": {},
   "outputs": [],
   "source": [
    "number_width = draw.textlength(str(number), font=number_font)\n"
   ]
  },
  {
   "cell_type": "code",
   "execution_count": 841,
   "metadata": {},
   "outputs": [],
   "source": [
    "while number_width > max_width:\n",
    "    NUMBER_FONT_SIZE = NUMBER_FONT_SIZE - 10\n",
    "    number_font = ImageFont.truetype(BytesIO(font_data), NUMBER_FONT_SIZE)\n",
    "    number_width = draw.textlength(number, font=number_font)\n"
   ]
  },
  {
   "cell_type": "code",
   "execution_count": 842,
   "metadata": {},
   "outputs": [],
   "source": [
    "# once number text will fit on shirt, add it to the image\n",
    "draw.text(\n",
    "    ((im_color.width - number_width) / 2, name_bottom), number, fill=fg_color, font=number_font\n",
    ")\n"
   ]
  },
  {
   "cell_type": "code",
   "execution_count": 843,
   "metadata": {},
   "outputs": [
    {
     "data": {
      "image/png": "[encoded data removed]",
      "text/plain": [
       "<PIL.Image.Image image mode=RGB size=160x268>"
      ]
     },
     "metadata": {},
     "output_type": "display_data"
    }
   ],
   "source": [
    "display_scaled(im_color)"
   ]
  },
  {
   "cell_type": "code",
   "execution_count": 844,
   "metadata": {},
   "outputs": [
    {
     "data": {
      "image/png": "[encoded data removed]",
      "text/plain": [
       "<PIL.Image.Image image mode=RGB size=160x268>"
      ]
     },
     "metadata": {},
     "output_type": "display_data"
    }
   ],
   "source": [
    "im_overlay = Image.open(image_path / \"overlay.png\")\n",
    "display_scaled(im_overlay)"
   ]
  },
  {
   "cell_type": "code",
   "execution_count": 845,
   "metadata": {},
   "outputs": [
    {
     "data": {
      "image/png": "[encoded data removed]",
      "text/plain": [
       "<PIL.Image.Image image mode=RGB size=160x268>"
      ]
     },
     "metadata": {},
     "output_type": "display_data"
    }
   ],
   "source": [
    "im_final = ImageChops.multiply(im_color, im_overlay)\n",
    "display_scaled(im_final)"
   ]
  }
 ],
 "metadata": {
  "kernelspec": {
   "display_name": "app-fK0g2gjx-py3.11",
   "language": "python",
   "name": "python3"
  },
  "language_info": {
   "codemirror_mode": {
    "name": "ipython",
    "version": 3
   },
   "file_extension": ".py",
   "mimetype": "text/x-python",
   "name": "python",
   "nbconvert_exporter": "python",
   "pygments_lexer": "ipython3",
   "version": "3.11.0"
  },
  "orig_nbformat": 4,
  "vscode": {
   "interpreter": {
    "hash": "2a42c869ee2366416c1c6b7e1ae65e27943442ef4b8257db29ea02c31f6d2c4e"
   }
  }
 },
 "nbformat": 4,
 "nbformat_minor": 2
}
